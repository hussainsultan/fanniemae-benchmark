{
 "cells": [
  {
   "cell_type": "code",
   "execution_count": 2,
   "id": "70e8a66d",
   "metadata": {},
   "outputs": [],
   "source": [
    "import duckdb\n",
    "\n",
    "conn = duckdb.connect(\"duckdb.db\")"
   ]
  },
  {
   "cell_type": "code",
   "execution_count": 4,
   "id": "07eb9361",
   "metadata": {},
   "outputs": [],
   "source": [
    "from jinja2 import Template\n",
    "\n",
    "with open('performance_summary.sql') as f:\n",
    "    template = Template(f.read())"
   ]
  },
  {
   "cell_type": "code",
   "execution_count": 33,
   "id": "4515c403-ff95-4c68-be4b-41da4b6b652e",
   "metadata": {},
   "outputs": [
    {
     "data": {
      "text/html": [
       "<div>\n",
       "<style scoped>\n",
       "    .dataframe tbody tr th:only-of-type {\n",
       "        vertical-align: middle;\n",
       "    }\n",
       "\n",
       "    .dataframe tbody tr th {\n",
       "        vertical-align: top;\n",
       "    }\n",
       "\n",
       "    .dataframe thead th {\n",
       "        text-align: right;\n",
       "    }\n",
       "</style>\n",
       "<table border=\"1\" class=\"dataframe\">\n",
       "  <thead>\n",
       "    <tr style=\"text-align: right;\">\n",
       "      <th></th>\n",
       "      <th>count_star()</th>\n",
       "    </tr>\n",
       "  </thead>\n",
       "  <tbody>\n",
       "    <tr>\n",
       "      <th>0</th>\n",
       "      <td>37015214</td>\n",
       "    </tr>\n",
       "  </tbody>\n",
       "</table>\n",
       "</div>"
      ],
      "text/plain": [
       "   count_star()\n",
       "0      37015214"
      ]
     },
     "execution_count": 33,
     "metadata": {},
     "output_type": "execute_result"
    }
   ],
   "source": [
    "conn.execute(\"select count(*) from 'data/acq.parquet';\").fetchdf()"
   ]
  },
  {
   "cell_type": "code",
   "execution_count": 3,
   "id": "cbbf734a-f660-4d81-9a71-bdd97b337877",
   "metadata": {},
   "outputs": [
    {
     "data": {
      "text/html": [
       "<div>\n",
       "<style scoped>\n",
       "    .dataframe tbody tr th:only-of-type {\n",
       "        vertical-align: middle;\n",
       "    }\n",
       "\n",
       "    .dataframe tbody tr th {\n",
       "        vertical-align: top;\n",
       "    }\n",
       "\n",
       "    .dataframe thead th {\n",
       "        text-align: right;\n",
       "    }\n",
       "</style>\n",
       "<table border=\"1\" class=\"dataframe\">\n",
       "  <thead>\n",
       "    <tr style=\"text-align: right;\">\n",
       "      <th></th>\n",
       "      <th>count_star()</th>\n",
       "    </tr>\n",
       "  </thead>\n",
       "  <tbody>\n",
       "    <tr>\n",
       "      <th>0</th>\n",
       "      <td>1890353680</td>\n",
       "    </tr>\n",
       "  </tbody>\n",
       "</table>\n",
       "</div>"
      ],
      "text/plain": [
       "   count_star()\n",
       "0    1890353680"
      ]
     },
     "execution_count": 3,
     "metadata": {},
     "output_type": "execute_result"
    }
   ],
   "source": [
    "conn.execute(\"select count(*) from 'data/perf.parquet';\").fetchdf()"
   ]
  },
  {
   "cell_type": "code",
   "execution_count": 5,
   "id": "9a18c421-0a76-4311-80bb-7eeb7da2e414",
   "metadata": {},
   "outputs": [
    {
     "name": "stdout",
     "output_type": "stream",
     "text": [
      "CPU times: user 18min 26s, sys: 49.5 s, total: 19min 15s\n",
      "Wall time: 3min 27s\n"
     ]
    }
   ],
   "source": [
    "%%time\n",
    "summary = conn.execute(template.render(perf='data/perf.parquet', acq='data/acq.parquet')).fetchdf()"
   ]
  },
  {
   "cell_type": "code",
   "execution_count": 35,
   "id": "1686e026-a06d-4659-86b3-3b09d9b75fc1",
   "metadata": {},
   "outputs": [
    {
     "data": {
      "text/html": [
       "<div>\n",
       "<style scoped>\n",
       "    .dataframe tbody tr th:only-of-type {\n",
       "        vertical-align: middle;\n",
       "    }\n",
       "\n",
       "    .dataframe tbody tr th {\n",
       "        vertical-align: top;\n",
       "    }\n",
       "\n",
       "    .dataframe thead th {\n",
       "        text-align: right;\n",
       "    }\n",
       "</style>\n",
       "<table border=\"1\" class=\"dataframe\">\n",
       "  <thead>\n",
       "    <tr style=\"text-align: right;\">\n",
       "      <th></th>\n",
       "      <th>orig_date</th>\n",
       "      <th>stmt_number</th>\n",
       "      <th>loan_count</th>\n",
       "      <th>avg_credit_score</th>\n",
       "      <th>dq30_count</th>\n",
       "      <th>dq90_count</th>\n",
       "      <th>dq180_count</th>\n",
       "      <th>upb_sum</th>\n",
       "      <th>bad_cnt</th>\n",
       "      <th>dollar_bad</th>\n",
       "    </tr>\n",
       "  </thead>\n",
       "  <tbody>\n",
       "    <tr>\n",
       "      <th>0</th>\n",
       "      <td>2003</td>\n",
       "      <td>1.0</td>\n",
       "      <td>5107349</td>\n",
       "      <td>730.250014</td>\n",
       "      <td>3.0</td>\n",
       "      <td>0.0</td>\n",
       "      <td>0.0</td>\n",
       "      <td>1.539525e+09</td>\n",
       "      <td>0.0</td>\n",
       "      <td>0.00</td>\n",
       "    </tr>\n",
       "    <tr>\n",
       "      <th>1</th>\n",
       "      <td>2015</td>\n",
       "      <td>12.0</td>\n",
       "      <td>1859767</td>\n",
       "      <td>754.268143</td>\n",
       "      <td>1737.0</td>\n",
       "      <td>653.0</td>\n",
       "      <td>219.0</td>\n",
       "      <td>2.792753e+11</td>\n",
       "      <td>4.0</td>\n",
       "      <td>610859.83</td>\n",
       "    </tr>\n",
       "    <tr>\n",
       "      <th>2</th>\n",
       "      <td>2007</td>\n",
       "      <td>12.0</td>\n",
       "      <td>1252500</td>\n",
       "      <td>719.906212</td>\n",
       "      <td>10093.0</td>\n",
       "      <td>4207.0</td>\n",
       "      <td>1570.0</td>\n",
       "      <td>1.180344e+11</td>\n",
       "      <td>85.0</td>\n",
       "      <td>15810272.64</td>\n",
       "    </tr>\n",
       "    <tr>\n",
       "      <th>3</th>\n",
       "      <td>2003</td>\n",
       "      <td>2.0</td>\n",
       "      <td>5107349</td>\n",
       "      <td>730.238309</td>\n",
       "      <td>2193.0</td>\n",
       "      <td>0.0</td>\n",
       "      <td>0.0</td>\n",
       "      <td>3.354519e+09</td>\n",
       "      <td>0.0</td>\n",
       "      <td>0.00</td>\n",
       "    </tr>\n",
       "    <tr>\n",
       "      <th>4</th>\n",
       "      <td>2015</td>\n",
       "      <td>1.0</td>\n",
       "      <td>1859767</td>\n",
       "      <td>754.146714</td>\n",
       "      <td>0.0</td>\n",
       "      <td>0.0</td>\n",
       "      <td>0.0</td>\n",
       "      <td>3.798550e+08</td>\n",
       "      <td>0.0</td>\n",
       "      <td>0.00</td>\n",
       "    </tr>\n",
       "  </tbody>\n",
       "</table>\n",
       "</div>"
      ],
      "text/plain": [
       "  orig_date  stmt_number  loan_count  avg_credit_score  dq30_count  \\\n",
       "0      2003          1.0     5107349        730.250014         3.0   \n",
       "1      2015         12.0     1859767        754.268143      1737.0   \n",
       "2      2007         12.0     1252500        719.906212     10093.0   \n",
       "3      2003          2.0     5107349        730.238309      2193.0   \n",
       "4      2015          1.0     1859767        754.146714         0.0   \n",
       "\n",
       "   dq90_count  dq180_count       upb_sum  bad_cnt   dollar_bad  \n",
       "0         0.0          0.0  1.539525e+09      0.0         0.00  \n",
       "1       653.0        219.0  2.792753e+11      4.0    610859.83  \n",
       "2      4207.0       1570.0  1.180344e+11     85.0  15810272.64  \n",
       "3         0.0          0.0  3.354519e+09      0.0         0.00  \n",
       "4         0.0          0.0  3.798550e+08      0.0         0.00  "
      ]
     },
     "execution_count": 35,
     "metadata": {},
     "output_type": "execute_result"
    }
   ],
   "source": [
    "summary.head()"
   ]
  },
  {
   "cell_type": "code",
   "execution_count": 36,
   "id": "a363d4cc-fca2-4749-af96-e21465912c98",
   "metadata": {},
   "outputs": [
    {
     "data": {
      "text/plain": [
       "2238"
      ]
     },
     "execution_count": 36,
     "metadata": {},
     "output_type": "execute_result"
    }
   ],
   "source": [
    "len(summary)"
   ]
  },
  {
   "cell_type": "code",
   "execution_count": 38,
   "id": "6fb873b9-f2ff-4ec8-9209-cd0b6fd03e6d",
   "metadata": {},
   "outputs": [
    {
     "data": {
      "text/plain": [
       "orig_date\n",
       "1999    0.010162\n",
       "2000    0.008756\n",
       "2001    0.007439\n",
       "2002    0.007903\n",
       "2003    0.011534\n",
       "2004    0.024403\n",
       "2005    0.054939\n",
       "2006    0.076471\n",
       "2007    0.085242\n",
       "2008    0.042009\n",
       "2009    0.005343\n",
       "2010    0.001708\n",
       "2011    0.001052\n",
       "2012    0.000468\n",
       "2013    0.000466\n",
       "2014    0.000451\n",
       "2015    0.000124\n",
       "2016    0.000011\n",
       "dtype: float64"
      ]
     },
     "execution_count": 38,
     "metadata": {},
     "output_type": "execute_result"
    }
   ],
   "source": [
    "summary.groupby('orig_date').dollar_bad.sum()/summary.groupby('orig_date').upb_sum.max()"
   ]
  },
  {
   "cell_type": "code",
   "execution_count": 41,
   "id": "5371c797-6889-4791-ab48-38b4e9bd1088",
   "metadata": {},
   "outputs": [
    {
     "data": {
      "text/plain": [
       "orig_date\n",
       "1999       70.077155\n",
       "2000      777.610205\n",
       "2001     1900.753022\n",
       "2002     2387.863383\n",
       "2003     4796.277209\n",
       "2004     3892.794448\n",
       "2005     7286.807932\n",
       "2006     7534.837202\n",
       "2007    10766.348260\n",
       "2008     8334.439642\n",
       "2009     1891.986702\n",
       "2010      461.535448\n",
       "2011      226.871168\n",
       "2012      198.570496\n",
       "2013      160.945776\n",
       "2014       95.471593\n",
       "2015       37.541039\n",
       "2016        3.986943\n",
       "Name: dollar_bad, dtype: float64"
      ]
     },
     "execution_count": 41,
     "metadata": {},
     "output_type": "execute_result"
    }
   ],
   "source": [
    "summary.groupby('orig_date').dollar_bad.sum()/1000000"
   ]
  },
  {
   "cell_type": "code",
   "execution_count": 42,
   "id": "821d3884-6e53-4e1f-92ed-81c3062658d2",
   "metadata": {},
   "outputs": [
    {
     "data": {
      "text/plain": [
       "orig_date\n",
       "1999      6895.803828\n",
       "2000     88811.632080\n",
       "2001    255519.484153\n",
       "2002    302131.499358\n",
       "2003    415841.331122\n",
       "2004    159519.343380\n",
       "2005    132634.865129\n",
       "2006     98532.018207\n",
       "2007    126302.621067\n",
       "2008    198396.018859\n",
       "2009    354092.165484\n",
       "2010    270236.918783\n",
       "2011    215705.283798\n",
       "2012    424393.687829\n",
       "2013    345015.502776\n",
       "2014    211697.728529\n",
       "2015    302231.716916\n",
       "2016    365848.360875\n",
       "Name: upb_sum, dtype: float64"
      ]
     },
     "execution_count": 42,
     "metadata": {},
     "output_type": "execute_result"
    }
   ],
   "source": [
    "summary.groupby('orig_date').upb_sum.max()/1000000"
   ]
  },
  {
   "cell_type": "code",
   "execution_count": null,
   "id": "c12f0bd7-0270-4f93-ba7a-77d567910a43",
   "metadata": {},
   "outputs": [],
   "source": []
  }
 ],
 "metadata": {
  "kernelspec": {
   "display_name": "Python 3 (ipykernel)",
   "language": "python",
   "name": "python3"
  },
  "language_info": {
   "codemirror_mode": {
    "name": "ipython",
    "version": 3
   },
   "file_extension": ".py",
   "mimetype": "text/x-python",
   "name": "python",
   "nbconvert_exporter": "python",
   "pygments_lexer": "ipython3",
   "version": "3.10.2"
  }
 },
 "nbformat": 4,
 "nbformat_minor": 5
}
