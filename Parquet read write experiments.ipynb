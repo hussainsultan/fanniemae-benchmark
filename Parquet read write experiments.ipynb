{
 "cells": [
  {
   "cell_type": "markdown",
   "id": "cc2dd1dd",
   "metadata": {},
   "source": [
    "# Objective\n",
    "Experiment with parquet and arrow formatted files"
   ]
  },
  {
   "cell_type": "code",
   "execution_count": 1,
   "id": "6fa0aab0",
   "metadata": {},
   "outputs": [],
   "source": [
    "# import required services\n",
    "import datetime\n",
    "import json\n",
    "import platform\n",
    "import time\n",
    "import warnings\n",
    "from pathlib import Path\n",
    "import os\n",
    "import glob\n",
    "import shutil\n",
    "import inspect\n",
    "\n",
    "import click\n",
    "import duckdb\n",
    "import ibis\n",
    "import psutil\n",
    "from jinja2 import Template\n",
    "from memory_profiler import memory_usage\n",
    "\n",
    "import pyarrow as pa\n",
    "import pyarrow.parquet as pq\n",
    "import pyarrow.compute as pc\n",
    "import pyarrow.dataset as ds"
   ]
  },
  {
   "cell_type": "code",
   "execution_count": 2,
   "id": "9bd0bb4e",
   "metadata": {},
   "outputs": [],
   "source": [
    "def platform_info():\n",
    "    print(f\"{inspect.stack()[0][3]}  entered\")\n",
    "    return {\n",
    "        \"machine\": platform.machine(),\n",
    "        \"version\": platform.version(),\n",
    "        \"platform\": platform.platform(),\n",
    "        \"system\": platform.system(),\n",
    "        \"cpu_count\": psutil.cpu_count(),\n",
    "        \"memory\": psutil.virtual_memory().total,\n",
    "        \"processor\": platform.processor(),\n",
    "    }"
   ]
  },
  {
   "cell_type": "code",
   "execution_count": 3,
   "id": "ccde2916",
   "metadata": {},
   "outputs": [],
   "source": [
    "def setGlobals(env_in):\n",
    "    # set environment characteristics. \n",
    "    # expects env_in to be a dictionary\n",
    "    env = env_in\n",
    "    env['data'] = 'data'\n",
    "    env['perf'] = 'perf'\n",
    "    env['acq'] = 'acq'\n",
    "    env['files'] = {'perf': 'Performance_2000Q1.txt.parquet', 'perf2': 'Performance_2000Q2.txt.parquet', 'perf3': 'Performance_2000Q3.txt.parquet', 'perf4': 'Performance_2000Q4.txt.parquet', 'acq': 'Acquisition_2000Q1.txt.parquet'}\n",
    "    env['path_separator'] = os.path.sep\n",
    "    env['platform_info'] = platform_info()\n",
    "    env['threads'] = env['platform_info']['cpu_count']\n",
    "    \n",
    "    return(env)"
   ]
  },
  {
   "cell_type": "code",
   "execution_count": 4,
   "id": "ef69986f",
   "metadata": {},
   "outputs": [
    {
     "name": "stdout",
     "output_type": "stream",
     "text": [
      "platform_info  entered\n",
      "<pyarrow._parquet.FileMetaData object at 0x16a077600>\n",
      "  created_by: parquet-cpp-arrow version 7.0.0\n",
      "  num_columns: 31\n",
      "  num_rows: 9094679\n",
      "  num_row_groups: 1\n",
      "  format_version: 1.0\n",
      "  serialized_size: 7413\n"
     ]
    }
   ],
   "source": [
    "env = setGlobals({})\n",
    "f1 = env['data'] + env['path_separator'] + env['perf'] + env['path_separator'] + env['files']['perf']\n",
    "f2 = env['data'] + env['path_separator'] + env['perf'] + env['path_separator'] + env['files']['perf2']\n",
    "f3 = env['data'] + env['path_separator'] + env['perf'] + env['path_separator'] + env['files']['perf3']\n",
    "f4 = env['data'] + env['path_separator'] + env['perf'] + env['path_separator'] + env['files']['perf4']\n",
    "\n",
    "f1_parquet = pq.read_table([f1, f2, f3, f4])\n",
    "f1_pq_metadata = pq.read_metadata(f1)\n",
    "print(f1_pq_metadata)"
   ]
  },
  {
   "cell_type": "code",
   "execution_count": 5,
   "id": "3021d569",
   "metadata": {},
   "outputs": [
    {
     "name": "stdout",
     "output_type": "stream",
     "text": [
      "36190382\n"
     ]
    }
   ],
   "source": [
    "print(pc.count(f1_parquet['loan_id']))"
   ]
  },
  {
   "cell_type": "code",
   "execution_count": 10,
   "id": "c53b8508",
   "metadata": {},
   "outputs": [
    {
     "name": "stdout",
     "output_type": "stream",
     "text": [
      "1851966762 rows in 77.74129486083984 seconds\n"
     ]
    }
   ],
   "source": [
    "dataset = ds.dataset(\"./data/perf\", format=\"parquet\")\n",
    "row_count = 0\n",
    "t0 = time.time()\n",
    "for record_batch in dataset.to_batches():\n",
    "    loan_id = record_batch.column(\"loan_id\")\n",
    "    row_count += len(loan_id)\n",
    "t1 = time.time()    \n",
    "print(f\"{row_count} rows in {t1-t0} seconds\")"
   ]
  },
  {
   "cell_type": "code",
   "execution_count": null,
   "id": "957470a7",
   "metadata": {},
   "outputs": [],
   "source": []
  }
 ],
 "metadata": {
  "kernelspec": {
   "display_name": "Python 3 (ipykernel)",
   "language": "python",
   "name": "python3"
  },
  "language_info": {
   "codemirror_mode": {
    "name": "ipython",
    "version": 3
   },
   "file_extension": ".py",
   "mimetype": "text/x-python",
   "name": "python",
   "nbconvert_exporter": "python",
   "pygments_lexer": "ipython3",
   "version": "3.10.4"
  }
 },
 "nbformat": 4,
 "nbformat_minor": 5
}
