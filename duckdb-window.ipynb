{
 "cells": [
  {
   "cell_type": "markdown",
   "id": "314c0bca-372e-4706-bb02-192b13d25024",
   "metadata": {},
   "source": [
    "## `duckdb` Window Operation\n",
    "\n",
    "`duckdb`'s Window Operations do not support out-of-core processing and are susceptible to OOM errors. Moreover, It appears that results get cached in memory after the query has been executed. \n"
   ]
  },
  {
   "cell_type": "code",
   "execution_count": 7,
   "id": "84c508e9-1d98-4063-be69-263ab8145caf",
   "metadata": {},
   "outputs": [],
   "source": [
    "import duckdb\n",
    "import psutil"
   ]
  },
  {
   "cell_type": "code",
   "execution_count": 8,
   "id": "0c04725f-06cd-4bc2-963c-e73d20b6bbf2",
   "metadata": {},
   "outputs": [
    {
     "name": "stdout",
     "output_type": "stream",
     "text": [
      "24G\tdata/perf.parquet\n"
     ]
    }
   ],
   "source": [
    "!du -h data/perf.parquet"
   ]
  },
  {
   "cell_type": "code",
   "execution_count": 9,
   "id": "7f977435-af70-4967-8791-ad3205889172",
   "metadata": {},
   "outputs": [],
   "source": [
    "%load_ext memory_profiler\n",
    "\n",
    "def print_memory_util():\n",
    "    percent_available = psutil.virtual_memory().available/psutil.virtual_memory().total\n",
    "    total_memory = psutil.virtual_memory().total\n",
    "    print(f\" Avaialble {percent_available*100:0.0f}% of total  {total_memory/float(1<<30):,.0f} GB of memory\")"
   ]
  },
  {
   "cell_type": "code",
   "execution_count": 11,
   "id": "d279c5d3-4f33-4d74-b38d-4260ac1b2b01",
   "metadata": {},
   "outputs": [],
   "source": [
    "db = duckdb.connect(\"test.db\")"
   ]
  },
  {
   "cell_type": "code",
   "execution_count": 15,
   "id": "2a86d163-95da-4abf-9c48-348a9433c70d",
   "metadata": {},
   "outputs": [
    {
     "data": {
      "text/html": [
       "<div>\n",
       "<style scoped>\n",
       "    .dataframe tbody tr th:only-of-type {\n",
       "        vertical-align: middle;\n",
       "    }\n",
       "\n",
       "    .dataframe tbody tr th {\n",
       "        vertical-align: top;\n",
       "    }\n",
       "\n",
       "    .dataframe thead th {\n",
       "        text-align: right;\n",
       "    }\n",
       "</style>\n",
       "<table border=\"1\" class=\"dataframe\">\n",
       "  <thead>\n",
       "    <tr style=\"text-align: right;\">\n",
       "      <th></th>\n",
       "      <th>total_rows</th>\n",
       "    </tr>\n",
       "  </thead>\n",
       "  <tbody>\n",
       "    <tr>\n",
       "      <th>0</th>\n",
       "      <td>1890353680</td>\n",
       "    </tr>\n",
       "  </tbody>\n",
       "</table>\n",
       "</div>"
      ],
      "text/plain": [
       "   total_rows\n",
       "0  1890353680"
      ]
     },
     "execution_count": 15,
     "metadata": {},
     "output_type": "execute_result"
    }
   ],
   "source": [
    "db.execute(\"select count(*) as total_rows from 'data/perf.parquet';\").fetchdf()"
   ]
  },
  {
   "cell_type": "code",
   "execution_count": 16,
   "id": "8a478d6c-6cd8-4d8a-a441-d1a8b4bfb9dd",
   "metadata": {},
   "outputs": [
    {
     "data": {
      "text/html": [
       "<div>\n",
       "<style scoped>\n",
       "    .dataframe tbody tr th:only-of-type {\n",
       "        vertical-align: middle;\n",
       "    }\n",
       "\n",
       "    .dataframe tbody tr th {\n",
       "        vertical-align: top;\n",
       "    }\n",
       "\n",
       "    .dataframe thead th {\n",
       "        text-align: right;\n",
       "    }\n",
       "</style>\n",
       "<table border=\"1\" class=\"dataframe\">\n",
       "  <thead>\n",
       "    <tr style=\"text-align: right;\">\n",
       "      <th></th>\n",
       "      <th>cardinality</th>\n",
       "    </tr>\n",
       "  </thead>\n",
       "  <tbody>\n",
       "    <tr>\n",
       "      <th>0</th>\n",
       "      <td>37015214</td>\n",
       "    </tr>\n",
       "  </tbody>\n",
       "</table>\n",
       "</div>"
      ],
      "text/plain": [
       "   cardinality\n",
       "0     37015214"
      ]
     },
     "execution_count": 16,
     "metadata": {},
     "output_type": "execute_result"
    }
   ],
   "source": [
    "db.execute(\"select count(distinct loan_id) as cardinality from 'data/perf.parquet';\").fetchdf()"
   ]
  },
  {
   "cell_type": "markdown",
   "id": "53b0b5ca-2b7a-4569-9945-e5decbc113b0",
   "metadata": {},
   "source": [
    "The following query finishes, it appears that the subquery is cached in ram. Since, ram is not freed. "
   ]
  },
  {
   "cell_type": "code",
   "execution_count": 31,
   "id": "f7218537-c5d8-4f17-905c-6fcfd4527d6e",
   "metadata": {},
   "outputs": [],
   "source": [
    "sql = \"\"\" select count(*) from (select *, RANK() OVER (PARTITION BY loan_id) as age from 'data/perf.parquet'); \"\"\""
   ]
  },
  {
   "cell_type": "markdown",
   "id": "686bba43-8818-4350-8533-52a8cc21d153",
   "metadata": {},
   "source": [
    "The following query throws an **OOM** error\n",
    "\n",
    "```sql\n",
    "\"\"\" SELECT count(*)\n",
    "FROM (\n",
    "\tSELECT *\n",
    "\t\t,RANK() OVER (\n",
    "\t\t\tPARTITION BY loan_id ORDER BY monthly_reporting_period\n",
    "\t\t\t) AS age\n",
    "\tFROM 'data/perf.parquet'\n",
    "\t); \"\"\"\n",
    "```"
   ]
  },
  {
   "cell_type": "markdown",
   "id": "3ccc5d01-7f5b-4732-840a-fe4dd242ca8b",
   "metadata": {},
   "source": [
    "A query without the `order by` clause, finishes but ends up using 85GB of RAM"
   ]
  },
  {
   "cell_type": "code",
   "execution_count": 10,
   "id": "01f7b7b8-d664-4e5a-8252-2facaa65482b",
   "metadata": {},
   "outputs": [
    {
     "name": "stdout",
     "output_type": "stream",
     "text": [
      " Avaialble 95% of total  126 GB of memory\n"
     ]
    }
   ],
   "source": [
    "print_memory_util()"
   ]
  },
  {
   "cell_type": "code",
   "execution_count": 32,
   "id": "f2ca9333-e68a-4568-bb87-3bd530f2818b",
   "metadata": {},
   "outputs": [
    {
     "name": "stdout",
     "output_type": "stream",
     "text": [
      "peak memory: 87494.90 MiB, increment: 85713.16 MiB\n"
     ]
    }
   ],
   "source": [
    "%%memit\n",
    "db.execute(\"\"\" select count(*) from (select *, RANK() OVER (PARTITION BY loan_id) as age from 'data/perf.parquet'); \"\"\").fetchdf()"
   ]
  },
  {
   "cell_type": "markdown",
   "id": "37d7a58a-fd60-4db1-920d-1b74d9f7cedf",
   "metadata": {},
   "source": [
    "Moreover, the RAM is not freed after the query is completed. It seems like the subquery gets cached in the RAM and used for subsequent operations"
   ]
  },
  {
   "cell_type": "code",
   "execution_count": 33,
   "id": "94d7f4b1-c554-4554-9828-f52e486ec9d2",
   "metadata": {},
   "outputs": [
    {
     "name": "stdout",
     "output_type": "stream",
     "text": [
      " Avaialble 28% of total  126 GB of memory\n"
     ]
    }
   ],
   "source": [
    "print_memory_util()"
   ]
  },
  {
   "cell_type": "markdown",
   "id": "cbac144d-61b6-4772-acd6-d290b02b9b05",
   "metadata": {},
   "source": [
    "In contrast, the following query does not materialize the subquery. Is Window operation caching the results unnecessarily?"
   ]
  },
  {
   "cell_type": "code",
   "execution_count": 5,
   "id": "7faeb4e0-a920-4bf2-9994-fe109b52b4f6",
   "metadata": {},
   "outputs": [
    {
     "name": "stdout",
     "output_type": "stream",
     "text": [
      "peak memory: 849.61 MiB, increment: 775.07 MiB\n"
     ]
    }
   ],
   "source": [
    "%%memit\n",
    "db.execute(\"\"\" select count(*) from (select *, loan_age+ 1 from 'data/perf.parquet'); \"\"\").fetchdf()"
   ]
  },
  {
   "cell_type": "code",
   "execution_count": 18,
   "id": "10f182c0-9138-4658-943b-42f42a8b7783",
   "metadata": {},
   "outputs": [],
   "source": [
    "explain_plan = db.execute(\"\"\" explain select count(*) from (select *, RANK() OVER (PARTITION BY loan_id) as age from 'data/perf.parquet'); \"\"\").fetchall()"
   ]
  },
  {
   "cell_type": "code",
   "execution_count": 22,
   "id": "74693c32-1f20-4fd0-b179-09433c4b7d58",
   "metadata": {},
   "outputs": [
    {
     "name": "stdout",
     "output_type": "stream",
     "text": [
      "physical_plan\n",
      "┌───────────────────────────┐\n",
      "│      SIMPLE_AGGREGATE     │\n",
      "│   ─ ─ ─ ─ ─ ─ ─ ─ ─ ─ ─   │\n",
      "│        count_star()       │\n",
      "└─────────────┬─────────────┘                             \n",
      "┌─────────────┴─────────────┐\n",
      "│         PROJECTION        │\n",
      "│   ─ ─ ─ ─ ─ ─ ─ ─ ─ ─ ─   │\n",
      "│             42            │\n",
      "└─────────────┬─────────────┘                             \n",
      "┌─────────────┴─────────────┐\n",
      "│           WINDOW          │\n",
      "│   ─ ─ ─ ─ ─ ─ ─ ─ ─ ─ ─   │\n",
      "│  RANK() OVER(PARTITION BY │\n",
      "│          loan_id)         │\n",
      "└─────────────┬─────────────┘                             \n",
      "┌─────────────┴─────────────┐\n",
      "│        PARQUET_SCAN       │\n",
      "│   ─ ─ ─ ─ ─ ─ ─ ─ ─ ─ ─   │\n",
      "│          loan_id          │\n",
      "└───────────────────────────┘                             \n",
      "\n"
     ]
    }
   ],
   "source": [
    "for result in explain_plan[0]:\n",
    "    print(result)"
   ]
  }
 ],
 "metadata": {
  "kernelspec": {
   "display_name": "Python 3 (ipykernel)",
   "language": "python",
   "name": "python3"
  },
  "language_info": {
   "codemirror_mode": {
    "name": "ipython",
    "version": 3
   },
   "file_extension": ".py",
   "mimetype": "text/x-python",
   "name": "python",
   "nbconvert_exporter": "python",
   "pygments_lexer": "ipython3",
   "version": "3.9.10"
  }
 },
 "nbformat": 4,
 "nbformat_minor": 5
}
