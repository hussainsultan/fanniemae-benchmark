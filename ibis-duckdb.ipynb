{
 "cells": [
  {
   "cell_type": "code",
   "execution_count": 1,
   "id": "53eecf6f-c945-4abe-8164-f2bc67792abb",
   "metadata": {},
   "outputs": [],
   "source": [
    "import ibis"
   ]
  },
  {
   "cell_type": "code",
   "execution_count": 2,
   "id": "cfaa2643-541b-4f80-b467-54c17ef293dc",
   "metadata": {},
   "outputs": [],
   "source": [
    "db = ibis.duckdb.connect('mortgage.db')"
   ]
  },
  {
   "cell_type": "code",
   "execution_count": 3,
   "id": "1685fd5c-1c7d-4c95-aff4-0010669fa0ee",
   "metadata": {},
   "outputs": [
    {
     "name": "stderr",
     "output_type": "stream",
     "text": [
      "/Users/hussainsultan/workspace/ibis/ibis/backends/base/sql/alchemy/__init__.py:95: SAWarning: Dialect postgresql:psycopg2 will not make use of SQL compilation caching as it does not set the 'supports_statement_cache' attribute to ``True``.  This can have significant performance implications including some performance degradations in comparison to prior SQLAlchemy versions.  Dialect maintainers should seek to set this attribute to True after appropriate development and testing for SQLAlchemy 1.4 caching support.   Alternatively, this attribute may be set to False which will disable this warning. (Background on this error at: https://sqlalche.me/e/14/cprf)\n",
      "  tables = self._inspector.get_table_names(\n"
     ]
    },
    {
     "data": {
      "text/plain": [
       "['duckdb_types',\n",
       " 'duckdb_schemas',\n",
       " 'duckdb_constraints',\n",
       " 'sqlite_temp_schema',\n",
       " 'sqlite_temp_master',\n",
       " 'sqlite_schema',\n",
       " 'sqlite_master',\n",
       " 'duckdb_indexes',\n",
       " 'duckdb_tables',\n",
       " 'pragma_database_list',\n",
       " 'duckdb_views',\n",
       " 'duckdb_columns',\n",
       " 'perf',\n",
       " 'acq']"
      ]
     },
     "execution_count": 3,
     "metadata": {},
     "output_type": "execute_result"
    }
   ],
   "source": [
    "db.list_tables()"
   ]
  },
  {
   "cell_type": "code",
   "execution_count": 4,
   "id": "806f13ee-9153-4c0e-a4e9-3b9878f94140",
   "metadata": {},
   "outputs": [],
   "source": [
    "perf = db.table('perf')\n",
    "acq = db.table('acq')\n",
    "acq = acq[acq.loan_id, acq.orig_date.split('/')[1].name(\"year\"), acq.borrower_credit_score] "
   ]
  },
  {
   "cell_type": "code",
   "execution_count": 5,
   "id": "67e57dec-cec2-4792-a6b5-b8b3930c1dc3",
   "metadata": {},
   "outputs": [],
   "source": [
    "joined = acq.inner_join(perf, acq.loan_id == perf.loan_id)"
   ]
  },
  {
   "cell_type": "code",
   "execution_count": 6,
   "id": "0a7f65d5-b2d3-455f-9d67-865903818730",
   "metadata": {},
   "outputs": [],
   "source": [
    "dq30 = (\n",
    "    ibis.case()\n",
    "    .when(perf.current_loan_delinquency_status > 1, 1)\n",
    "    .else_(0)\n",
    "    .end()\n",
    "    .name(\"dq30\"))\n",
    "\n",
    "chargeoffs = (\n",
    "    ibis.case()\n",
    "    .when((perf.zero_balance_code.isin(['02','03','09', '15'])) & (perf.disposition_date.notnull()), 1)\n",
    "    .else_(0)\n",
    "    .end()\n",
    "    .name(\"charegoffs\"))\n",
    "\n",
    "dollar_co = (perf.zero_balance_code.isin(['02','03','09', '15']) &\n",
    "            (perf.disposition_date.notnull())).ifelse(perf.current_actual_upb, 0)"
   ]
  },
  {
   "cell_type": "code",
   "execution_count": 16,
   "id": "cb12921d-c7db-4c21-90d7-68caf7df35e5",
   "metadata": {},
   "outputs": [],
   "source": [
    "loans = (joined\n",
    "             .mutate(chargeoffs=chargeoffs, dollar_co=dollar_co )\n",
    "             .projection([perf.loan_id, \n",
    "                             # dq30, \n",
    "                             chargeoffs,\n",
    "                             dollar_co.name(\"dollar_co\"),\n",
    "                             perf.loan_age, \n",
    "                             perf.current_actual_upb,\n",
    "                             acq.year,\n",
    "                             acq.borrower_credit_score,\n",
    "                         ]))\n",
    "\n",
    "summary = (loans[loans.loan_age>0]\n",
    "           .groupby([loans.year, loans.loan_age])\n",
    "           .aggregate(co_count=lambda x: x.charegoffs.cast('int64').sum(),\n",
    "                      dollar_co = lambda x: x.dollar_co.sum(),\n",
    "                      avg_credit_score = lambda x: x.borrower_credit_score.mean(),\n",
    "                      upb_sum = lambda x: x.current_actual_upb.sum()))         \n",
    "\n",
    "acq_agg = acq.groupby([acq.year]).loan_id.count()\n",
    "\n",
    "summary = summary.inner_join(acq_agg, acq_agg.year == summary.year)\n",
    "summary = summary.projection([summary.year_x, summary.loan_age, summary[\"count(loan_id)\"], summary.avg_credit_score, summary.upb_sum, \n",
    "                             summary.dollar_co])"
   ]
  },
  {
   "cell_type": "code",
   "execution_count": 17,
   "id": "ac2e3bfa-cec5-4e0e-a2cc-525f0719cc1d",
   "metadata": {},
   "outputs": [
    {
     "name": "stdout",
     "output_type": "stream",
     "text": [
      "WITH t0 AS \n",
      "(SELECT t2.loan_id AS loan_id, list_element(string_to_array(t2.orig_date, '/'), 1) AS year, t2.borrower_credit_score AS borrower_credit_score \n",
      "FROM acq AS t2)\n",
      " SELECT t1.year_x, t1.loan_age, t1.\"count(loan_id)\", t1.avg_credit_score, t1.upb_sum, t1.dollar_co \n",
      "FROM (SELECT t2.year AS year_x, t2.loan_age AS loan_age, t2.avg_credit_score AS avg_credit_score, t2.co_count AS co_count, t2.dollar_co AS dollar_co, t2.upb_sum AS upb_sum, t3.year AS year_y, t3.\"count(loan_id)\" AS \"count(loan_id)\" \n",
      "FROM (SELECT t4.year AS year, t4.loan_age AS loan_age, avg(t4.borrower_credit_score) AS avg_credit_score, sum(CAST(t4.charegoffs AS BIGINT)) AS co_count, sum(t4.dollar_co) AS dollar_co, sum(t4.current_actual_upb) AS upb_sum \n",
      "FROM (SELECT t5.loan_id AS loan_id, CASE WHEN (t5.zero_balance_code IN ('02', '03', '09', '15') AND t5.disposition_date IS NOT NULL) THEN 1 ELSE 0 END AS charegoffs, CASE WHEN (t5.zero_balance_code IN ('02', '03', '09', '15') AND t5.disposition_date IS NOT NULL) THEN t5.current_actual_upb ELSE 0 END AS dollar_co, t5.loan_age AS loan_age, t5.current_actual_upb AS current_actual_upb, t0.year AS year, t0.borrower_credit_score AS borrower_credit_score \n",
      "FROM t0 JOIN perf AS t5 ON t0.loan_id = t5.loan_id) AS t4 \n",
      "WHERE t4.loan_age > 0 GROUP BY t4.year, t4.loan_age) AS t2 JOIN (SELECT t0.year AS year, count(t0.loan_id) AS \"count(loan_id)\" \n",
      "FROM t0 GROUP BY t0.year) AS t3 ON t3.year = t2.year) AS t1\n"
     ]
    }
   ],
   "source": [
    "print(summary.compile().compile(compile_kwargs={\"literal_binds\": True}))"
   ]
  },
  {
   "cell_type": "code",
   "execution_count": 15,
   "id": "4225afc3-a59a-4271-99db-b77b203a2271",
   "metadata": {},
   "outputs": [
    {
     "name": "stdout",
     "output_type": "stream",
     "text": [
      "CPU times: user 52min 3s, sys: 3min 56s, total: 56min\n",
      "Wall time: 9min 8s\n"
     ]
    }
   ],
   "source": [
    "%%time\n",
    "df = summary.execute()"
   ]
  },
  {
   "cell_type": "code",
   "execution_count": 37,
   "id": "2e38b26e-8f90-4952-8fba-9e9aee4a521a",
   "metadata": {},
   "outputs": [
    {
     "data": {
      "text/html": [
       "<div>\n",
       "<style scoped>\n",
       "    .dataframe tbody tr th:only-of-type {\n",
       "        vertical-align: middle;\n",
       "    }\n",
       "\n",
       "    .dataframe tbody tr th {\n",
       "        vertical-align: top;\n",
       "    }\n",
       "\n",
       "    .dataframe thead th {\n",
       "        text-align: right;\n",
       "    }\n",
       "</style>\n",
       "<table border=\"1\" class=\"dataframe\">\n",
       "  <thead>\n",
       "    <tr style=\"text-align: right;\">\n",
       "      <th></th>\n",
       "      <th>year</th>\n",
       "      <th>loan_age</th>\n",
       "      <th>avg_credit_score</th>\n",
       "      <th>co_count</th>\n",
       "      <th>dollar_co</th>\n",
       "      <th>upb_sum</th>\n",
       "    </tr>\n",
       "  </thead>\n",
       "  <tbody>\n",
       "    <tr>\n",
       "      <th>0</th>\n",
       "      <td>2003</td>\n",
       "      <td>67.0</td>\n",
       "      <td>735.462844</td>\n",
       "      <td>425</td>\n",
       "      <td>47239927.28</td>\n",
       "      <td>3.324908e+11</td>\n",
       "    </tr>\n",
       "    <tr>\n",
       "      <th>1</th>\n",
       "      <td>2015</td>\n",
       "      <td>15.0</td>\n",
       "      <td>754.320344</td>\n",
       "      <td>17</td>\n",
       "      <td>3276420.53</td>\n",
       "      <td>3.584938e+11</td>\n",
       "    </tr>\n",
       "    <tr>\n",
       "      <th>2</th>\n",
       "      <td>2007</td>\n",
       "      <td>9.0</td>\n",
       "      <td>721.543722</td>\n",
       "      <td>145</td>\n",
       "      <td>30825612.83</td>\n",
       "      <td>2.206895e+11</td>\n",
       "    </tr>\n",
       "    <tr>\n",
       "      <th>3</th>\n",
       "      <td>2003</td>\n",
       "      <td>1.0</td>\n",
       "      <td>729.628530</td>\n",
       "      <td>0</td>\n",
       "      <td>0.00</td>\n",
       "      <td>1.543691e+09</td>\n",
       "    </tr>\n",
       "    <tr>\n",
       "      <th>4</th>\n",
       "      <td>2015</td>\n",
       "      <td>16.0</td>\n",
       "      <td>754.371683</td>\n",
       "      <td>20</td>\n",
       "      <td>2895264.10</td>\n",
       "      <td>3.530540e+11</td>\n",
       "    </tr>\n",
       "    <tr>\n",
       "      <th>...</th>\n",
       "      <td>...</td>\n",
       "      <td>...</td>\n",
       "      <td>...</td>\n",
       "      <td>...</td>\n",
       "      <td>...</td>\n",
       "      <td>...</td>\n",
       "    </tr>\n",
       "    <tr>\n",
       "      <th>2251</th>\n",
       "      <td>2012</td>\n",
       "      <td>69.0</td>\n",
       "      <td>770.612153</td>\n",
       "      <td>0</td>\n",
       "      <td>0.00</td>\n",
       "      <td>3.065800e+10</td>\n",
       "    </tr>\n",
       "    <tr>\n",
       "      <th>2252</th>\n",
       "      <td>2012</td>\n",
       "      <td>66.0</td>\n",
       "      <td>769.964599</td>\n",
       "      <td>1</td>\n",
       "      <td>87658.00</td>\n",
       "      <td>8.499493e+10</td>\n",
       "    </tr>\n",
       "    <tr>\n",
       "      <th>2253</th>\n",
       "      <td>2012</td>\n",
       "      <td>70.0</td>\n",
       "      <td>769.715452</td>\n",
       "      <td>0</td>\n",
       "      <td>0.00</td>\n",
       "      <td>1.317821e+10</td>\n",
       "    </tr>\n",
       "    <tr>\n",
       "      <th>2254</th>\n",
       "      <td>2012</td>\n",
       "      <td>67.0</td>\n",
       "      <td>770.412095</td>\n",
       "      <td>0</td>\n",
       "      <td>0.00</td>\n",
       "      <td>6.678450e+10</td>\n",
       "    </tr>\n",
       "    <tr>\n",
       "      <th>2255</th>\n",
       "      <td>2012</td>\n",
       "      <td>71.0</td>\n",
       "      <td>767.932418</td>\n",
       "      <td>0</td>\n",
       "      <td>0.00</td>\n",
       "      <td>1.439291e+08</td>\n",
       "    </tr>\n",
       "  </tbody>\n",
       "</table>\n",
       "<p>2256 rows × 6 columns</p>\n",
       "</div>"
      ],
      "text/plain": [
       "      year  loan_age  avg_credit_score  co_count    dollar_co       upb_sum\n",
       "0     2003      67.0        735.462844       425  47239927.28  3.324908e+11\n",
       "1     2015      15.0        754.320344        17   3276420.53  3.584938e+11\n",
       "2     2007       9.0        721.543722       145  30825612.83  2.206895e+11\n",
       "3     2003       1.0        729.628530         0         0.00  1.543691e+09\n",
       "4     2015      16.0        754.371683        20   2895264.10  3.530540e+11\n",
       "...    ...       ...               ...       ...          ...           ...\n",
       "2251  2012      69.0        770.612153         0         0.00  3.065800e+10\n",
       "2252  2012      66.0        769.964599         1     87658.00  8.499493e+10\n",
       "2253  2012      70.0        769.715452         0         0.00  1.317821e+10\n",
       "2254  2012      67.0        770.412095         0         0.00  6.678450e+10\n",
       "2255  2012      71.0        767.932418         0         0.00  1.439291e+08\n",
       "\n",
       "[2256 rows x 6 columns]"
      ]
     },
     "execution_count": 37,
     "metadata": {},
     "output_type": "execute_result"
    }
   ],
   "source": [
    "df"
   ]
  },
  {
   "cell_type": "code",
   "execution_count": 15,
   "id": "c639f345-acf9-4be2-88bb-0ae1c1c1d0d0",
   "metadata": {},
   "outputs": [
    {
     "name": "stdout",
     "output_type": "stream",
     "text": [
      "CPU times: user 2h 44min 23s, sys: 5min 18s, total: 2h 49min 42s\n",
      "Wall time: 26min 49s\n"
     ]
    },
    {
     "data": {
      "text/html": [
       "<div>\n",
       "<style scoped>\n",
       "    .dataframe tbody tr th:only-of-type {\n",
       "        vertical-align: middle;\n",
       "    }\n",
       "\n",
       "    .dataframe tbody tr th {\n",
       "        vertical-align: top;\n",
       "    }\n",
       "\n",
       "    .dataframe thead th {\n",
       "        text-align: right;\n",
       "    }\n",
       "</style>\n",
       "<table border=\"1\" class=\"dataframe\">\n",
       "  <thead>\n",
       "    <tr style=\"text-align: right;\">\n",
       "      <th></th>\n",
       "      <th>year</th>\n",
       "      <th>loan_age</th>\n",
       "      <th>avg_credit_score</th>\n",
       "      <th>co_count</th>\n",
       "      <th>dollar_co</th>\n",
       "    </tr>\n",
       "  </thead>\n",
       "  <tbody>\n",
       "    <tr>\n",
       "      <th>0</th>\n",
       "      <td>2003</td>\n",
       "      <td>67.0</td>\n",
       "      <td>735.462844</td>\n",
       "      <td>425.0</td>\n",
       "      <td>47239927.28</td>\n",
       "    </tr>\n",
       "    <tr>\n",
       "      <th>1</th>\n",
       "      <td>2015</td>\n",
       "      <td>15.0</td>\n",
       "      <td>754.320344</td>\n",
       "      <td>17.0</td>\n",
       "      <td>3276420.53</td>\n",
       "    </tr>\n",
       "    <tr>\n",
       "      <th>2</th>\n",
       "      <td>2007</td>\n",
       "      <td>12.0</td>\n",
       "      <td>721.474947</td>\n",
       "      <td>174.0</td>\n",
       "      <td>32808739.88</td>\n",
       "    </tr>\n",
       "    <tr>\n",
       "      <th>3</th>\n",
       "      <td>2003</td>\n",
       "      <td>1.0</td>\n",
       "      <td>729.628530</td>\n",
       "      <td>0.0</td>\n",
       "      <td>0.00</td>\n",
       "    </tr>\n",
       "    <tr>\n",
       "      <th>4</th>\n",
       "      <td>2015</td>\n",
       "      <td>16.0</td>\n",
       "      <td>754.371683</td>\n",
       "      <td>20.0</td>\n",
       "      <td>2895264.10</td>\n",
       "    </tr>\n",
       "    <tr>\n",
       "      <th>...</th>\n",
       "      <td>...</td>\n",
       "      <td>...</td>\n",
       "      <td>...</td>\n",
       "      <td>...</td>\n",
       "      <td>...</td>\n",
       "    </tr>\n",
       "    <tr>\n",
       "      <th>2251</th>\n",
       "      <td>2012</td>\n",
       "      <td>69.0</td>\n",
       "      <td>770.612153</td>\n",
       "      <td>0.0</td>\n",
       "      <td>0.00</td>\n",
       "    </tr>\n",
       "    <tr>\n",
       "      <th>2252</th>\n",
       "      <td>2012</td>\n",
       "      <td>66.0</td>\n",
       "      <td>769.964599</td>\n",
       "      <td>1.0</td>\n",
       "      <td>87658.00</td>\n",
       "    </tr>\n",
       "    <tr>\n",
       "      <th>2253</th>\n",
       "      <td>2012</td>\n",
       "      <td>70.0</td>\n",
       "      <td>769.715452</td>\n",
       "      <td>0.0</td>\n",
       "      <td>0.00</td>\n",
       "    </tr>\n",
       "    <tr>\n",
       "      <th>2254</th>\n",
       "      <td>2012</td>\n",
       "      <td>67.0</td>\n",
       "      <td>770.412095</td>\n",
       "      <td>0.0</td>\n",
       "      <td>0.00</td>\n",
       "    </tr>\n",
       "    <tr>\n",
       "      <th>2255</th>\n",
       "      <td>2012</td>\n",
       "      <td>71.0</td>\n",
       "      <td>767.932418</td>\n",
       "      <td>0.0</td>\n",
       "      <td>0.00</td>\n",
       "    </tr>\n",
       "  </tbody>\n",
       "</table>\n",
       "<p>2256 rows × 5 columns</p>\n",
       "</div>"
      ],
      "text/plain": [
       "      year  loan_age  avg_credit_score  co_count    dollar_co\n",
       "0     2003      67.0        735.462844     425.0  47239927.28\n",
       "1     2015      15.0        754.320344      17.0   3276420.53\n",
       "2     2007      12.0        721.474947     174.0  32808739.88\n",
       "3     2003       1.0        729.628530       0.0         0.00\n",
       "4     2015      16.0        754.371683      20.0   2895264.10\n",
       "...    ...       ...               ...       ...          ...\n",
       "2251  2012      69.0        770.612153       0.0         0.00\n",
       "2252  2012      66.0        769.964599       1.0     87658.00\n",
       "2253  2012      70.0        769.715452       0.0         0.00\n",
       "2254  2012      67.0        770.412095       0.0         0.00\n",
       "2255  2012      71.0        767.932418       0.0         0.00\n",
       "\n",
       "[2256 rows x 5 columns]"
      ]
     },
     "execution_count": 15,
     "metadata": {},
     "output_type": "execute_result"
    }
   ],
   "source": [
    "%%time\n",
    "summary.execute()"
   ]
  },
  {
   "cell_type": "code",
   "execution_count": 16,
   "id": "c673952c-afd4-4558-99cc-61b24d526d4e",
   "metadata": {},
   "outputs": [],
   "source": [
    "df = _"
   ]
  },
  {
   "cell_type": "code",
   "execution_count": 38,
   "id": "06fd746a-d42d-4e96-9e82-52d222957692",
   "metadata": {},
   "outputs": [
    {
     "data": {
      "text/plain": [
       "year\n",
       "1999    0.010831\n",
       "2000    0.010021\n",
       "2001    0.008098\n",
       "2002    0.009312\n",
       "2003    0.012208\n",
       "2004    0.025943\n",
       "2005    0.056303\n",
       "2006    0.082203\n",
       "2007    0.089693\n",
       "2008    0.043820\n",
       "2009    0.005724\n",
       "2010    0.001916\n",
       "2011    0.001169\n",
       "2012    0.000509\n",
       "2013    0.000489\n",
       "2014    0.000458\n",
       "2015    0.000139\n",
       "2016    0.000012\n",
       "dtype: float64"
      ]
     },
     "execution_count": 38,
     "metadata": {},
     "output_type": "execute_result"
    }
   ],
   "source": [
    "df.groupby('year').dollar_co.sum()/df.groupby('year').upb_sum.max()"
   ]
  },
  {
   "cell_type": "code",
   "execution_count": null,
   "id": "69ed111d-93a5-45c8-92c8-ad9aff04e3c7",
   "metadata": {},
   "outputs": [],
   "source": [
    "orig_date\n",
    "1999    0.010162\n",
    "2000    0.008756\n",
    "2001    0.007439\n",
    "2002    0.007903\n",
    "2003    0.011534\n",
    "2004    0.024403\n",
    "2005    0.054939\n",
    "2006    0.076471\n",
    "2007    0.085242\n",
    "2008    0.042009\n",
    "2009    0.005343\n",
    "2010    0.001708\n",
    "2011    0.001052\n",
    "2012    0.000468\n",
    "2013    0.000466\n",
    "2014    0.000451\n",
    "2015    0.000124\n",
    "2016    0.000011"
   ]
  }
 ],
 "metadata": {
  "kernelspec": {
   "display_name": "Python 3 (ipykernel)",
   "language": "python",
   "name": "python3"
  },
  "language_info": {
   "codemirror_mode": {
    "name": "ipython",
    "version": 3
   },
   "file_extension": ".py",
   "mimetype": "text/x-python",
   "name": "python",
   "nbconvert_exporter": "python",
   "pygments_lexer": "ipython3",
   "version": "3.9.10"
  }
 },
 "nbformat": 4,
 "nbformat_minor": 5
}
